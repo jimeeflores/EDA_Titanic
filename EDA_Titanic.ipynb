# Importar librerías
import pandas as pd
import matplotlib.pyplot as plt
import seaborn as sns

# Cargar dataset
data = pd.read_csv('titanic.csv')

# Exploración rápida
print(data.head())
print(data.info())

# Visualización: Supervivencia por género
sns.countplot(data=data, x='Survived', hue='Sex')
plt.title('Supervivencia por Género')
plt.show()

# Estadísticas básicas
print(data.describe())
